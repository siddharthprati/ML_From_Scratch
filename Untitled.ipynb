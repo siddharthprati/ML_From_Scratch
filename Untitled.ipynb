{
 "cells": [
  {
   "cell_type": "code",
   "execution_count": 2,
   "metadata": {},
   "outputs": [],
   "source": [
    "#plot histogram and KDE\n",
    "import numpy as np\n",
    "import matplotlib.pyplot as plt\n",
    "import seaborn as sns\n",
    "import statsmodels.api as sm \n",
    "import pylab as py "
   ]
  },
  {
   "cell_type": "code",
   "execution_count": 16,
   "metadata": {},
   "outputs": [
    {
     "data": {
      "text/plain": [
       "(array([ 2.,  2.,  1.,  4.,  8., 15.,  9., 18., 21., 20., 21., 20., 16.,\n",
       "        11.,  9.,  7., 10.,  4.,  1.,  1.]),\n",
       " array([-2.56608538, -2.30179746, -2.03750954, -1.77322162, -1.5089337 ,\n",
       "        -1.24464578, -0.98035786, -0.71606994, -0.45178202, -0.1874941 ,\n",
       "         0.07679382,  0.34108174,  0.60536966,  0.86965758,  1.1339455 ,\n",
       "         1.39823342,  1.66252134,  1.92680926,  2.19109718,  2.4553851 ,\n",
       "         2.71967302]),\n",
       " <a list of 20 Patch objects>)"
      ]
     },
     "execution_count": 16,
     "metadata": {},
     "output_type": "execute_result"
    },
    {
     "data": {
      "image/png": "[encoded data removed]",
      "text/plain": [
       "<Figure size 432x288 with 1 Axes>"
      ]
     },
     "metadata": {
      "needs_background": "light"
     },
     "output_type": "display_data"
    }
   ],
   "source": [
    "n=200\n",
    "sample = np.random.normal(size=n)\n",
    "plt.hist(sample,bins=20)\n",
    "\n",
    "\n"
   ]
  }
 ],
 "metadata": {
  "kernelspec": {
   "display_name": "Python 3",
   "language": "python",
   "name": "python3"
  },
  "language_info": {
   "codemirror_mode": {
    "name": "ipython",
    "version": 3
   },
   "file_extension": ".py",
   "mimetype": "text/x-python",
   "name": "python",
   "nbconvert_exporter": "python",
   "pygments_lexer": "ipython3",
   "version": "3.7.6"
  }
 },
 "nbformat": 4,
 "nbformat_minor": 4
}
